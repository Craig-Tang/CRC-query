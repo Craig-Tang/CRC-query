{
 "cells": [
  {
   "cell_type": "code",
   "execution_count": 149,
   "metadata": {},
   "outputs": [
    {
     "name": "stdout",
     "output_type": "stream",
     "text": [
      "The autoreload extension is already loaded. To reload it, use:\n",
      "  %reload_ext autoreload\n"
     ]
    }
   ],
   "source": [
    "import networkx as nx\n",
    "from pathlib import Path\n",
    "from time import time\n",
    "from utilities import *\n",
    "from EEF import *\n",
    "from WCF import *\n",
    "from joblib import Parallel, delayed\n",
    "%load_ext autoreload\n",
    "%autoreload 2"
   ]
  },
  {
   "cell_type": "code",
   "execution_count": 262,
   "metadata": {},
   "outputs": [],
   "source": [
    "data = 'Reddit'\n",
    "graph_path = './'+data+'/'\n",
    "graph_file = list(Path(graph_path).glob('*'))\n",
    "list_G = Parallel(n_jobs=-1)(delayed(nx.read_gml)(g) for g in graph_file)\n",
    "\n",
    "theta_thres_all = []\n",
    "wcf_indices = []\n",
    "theta_thres_all = Parallel(n_jobs=-1)(delayed(theta_thres_table)(g) for g in list_G)\n",
    "wcf_indices = Parallel(n_jobs=-1)(delayed(theta_tree)(theta_thres_all[i],g) for i,g in enumerate(list_G))"
   ]
  },
  {
   "cell_type": "code",
   "execution_count": 31,
   "metadata": {},
   "outputs": [],
   "source": [
    "def local_theta_core1(G, theta, k, query):\n",
    "    res = nx.Graph()\n",
    "    filtered_edges = [(u,v) for (u,v) in G.edges if G[u][v]['weight']>=theta]\n",
    "    G_theta = G.edge_subgraph(filtered_edges)\n",
    "    G_core = nx.k_core(G_theta,k)\n",
    "    if query in G_core.nodes:\n",
    "        res = G_theta.subgraph(nx.node_connected_component(G_core, query))\n",
    "    return res\n"
   ]
  },
  {
   "cell_type": "code",
   "execution_count": 277,
   "metadata": {},
   "outputs": [
    {
     "name": "stdout",
     "output_type": "stream",
     "text": [
      "875\n"
     ]
    }
   ],
   "source": [
    "theta = 0.2\n",
    "k=3\n",
    "query = 'pics'\n",
    "V_MAX = get_V_max(list_G,k)\n",
    "print(V_MAX)"
   ]
  },
  {
   "cell_type": "code",
   "execution_count": 278,
   "metadata": {},
   "outputs": [
    {
     "data": {
      "text/plain": [
       "(21, 18)"
      ]
     },
     "execution_count": 278,
     "metadata": {},
     "output_type": "execute_result"
    }
   ],
   "source": [
    "maxS1, C_opt1, d1 = EEF(list_G, query, theta, k, V_MAX, alpha=5)\n",
    "len(C_opt1.nodes), d1"
   ]
  },
  {
   "cell_type": "code",
   "execution_count": 279,
   "metadata": {},
   "outputs": [
    {
     "data": {
      "text/plain": [
       "(21, 18)"
      ]
     },
     "execution_count": 279,
     "metadata": {},
     "output_type": "execute_result"
    }
   ],
   "source": [
    "maxS2, C_opt2, score, L_c, OptD = WCF_search_newUB(list_G, wcf_indices, query, theta, k, V_MAX, alpha=5)\n",
    "len(C_opt2.nodes), OptD"
   ]
  },
  {
   "cell_type": "code",
   "execution_count": 264,
   "metadata": {},
   "outputs": [
    {
     "name": "stdout",
     "output_type": "stream",
     "text": [
      "246\n",
      "154\n"
     ]
    },
    {
     "data": {
      "text/plain": [
       "440"
      ]
     },
     "execution_count": 264,
     "metadata": {},
     "output_type": "execute_result"
    }
   ],
   "source": [
    "gg = list_G[4]\n",
    "# aa = local_k_core(remove_theta(gg,theta, query), query,k)\n",
    "aa = return_C1(gg, wcf_indices[4], query, theta, k)\n",
    "len(aa.nodes)"
   ]
  },
  {
   "cell_type": "code",
   "execution_count": 194,
   "metadata": {},
   "outputs": [],
   "source": [
    "tree = wcf_indices[4][3]\n",
    "# all_v = tree['node_id'][70].get_subgraph_in_tree(tree['node_id'])[1]"
   ]
  },
  {
   "cell_type": "code",
   "execution_count": 202,
   "metadata": {},
   "outputs": [
    {
     "data": {
      "text/plain": [
       "1     0.9\n",
       "2     0.9\n",
       "3     0.7\n",
       "4     0.5\n",
       "5     0.3\n",
       "6     0.2\n",
       "7     0.1\n",
       "8     0.0\n",
       "9     0.0\n",
       "10    0.0\n",
       "11    0.0\n",
       "12    0.0\n",
       "Name: nba, dtype: float64"
      ]
     },
     "execution_count": 202,
     "metadata": {},
     "output_type": "execute_result"
    }
   ],
   "source": [
    "theta_thres_all[4].loc['nba']"
   ]
  },
  {
   "cell_type": "code",
   "execution_count": 207,
   "metadata": {},
   "outputs": [
    {
     "ename": "KeyError",
     "evalue": "'node_id'",
     "output_type": "error",
     "traceback": [
      "\u001b[1;31m---------------------------------------------------------------------------\u001b[0m",
      "\u001b[1;31mKeyError\u001b[0m                                  Traceback (most recent call last)",
      "\u001b[1;32m~\\AppData\\Local\\Temp/ipykernel_29300/519497777.py\u001b[0m in \u001b[0;36m<module>\u001b[1;34m\u001b[0m\n\u001b[1;32m----> 1\u001b[1;33m \u001b[1;32mfor\u001b[0m \u001b[0mi\u001b[0m \u001b[1;32min\u001b[0m \u001b[0mtree4\u001b[0m\u001b[1;33m[\u001b[0m\u001b[1;34m'node_id'\u001b[0m\u001b[1;33m]\u001b[0m\u001b[1;33m.\u001b[0m\u001b[0mkeys\u001b[0m\u001b[1;33m(\u001b[0m\u001b[1;33m)\u001b[0m\u001b[1;33m:\u001b[0m\u001b[1;33m\u001b[0m\u001b[1;33m\u001b[0m\u001b[0m\n\u001b[0m\u001b[0;32m      2\u001b[0m     \u001b[1;32mif\u001b[0m \u001b[0mtree4\u001b[0m\u001b[1;33m[\u001b[0m\u001b[1;34m'node_id'\u001b[0m\u001b[1;33m]\u001b[0m\u001b[1;33m[\u001b[0m\u001b[0mi\u001b[0m\u001b[1;33m]\u001b[0m\u001b[1;33m.\u001b[0m\u001b[0mcontains_v\u001b[0m\u001b[1;33m(\u001b[0m\u001b[1;34m'nba'\u001b[0m\u001b[1;33m)\u001b[0m\u001b[1;33m:\u001b[0m\u001b[1;33m\u001b[0m\u001b[1;33m\u001b[0m\u001b[0m\n\u001b[0;32m      3\u001b[0m         \u001b[0mprint\u001b[0m\u001b[1;33m(\u001b[0m\u001b[0mi\u001b[0m\u001b[1;33m)\u001b[0m\u001b[1;33m\u001b[0m\u001b[1;33m\u001b[0m\u001b[0m\n",
      "\u001b[1;31mKeyError\u001b[0m: 'node_id'"
     ]
    }
   ],
   "source": [
    "for i in tree['node_id'].keys():\n",
    "    if tree['node_id'][i].contains_v('nba'):\n",
    "        print(i)"
   ]
  },
  {
   "cell_type": "code",
   "execution_count": 180,
   "metadata": {},
   "outputs": [],
   "source": [
    "aa = local_k_core(remove_theta(gg,theta, query), query,k)"
   ]
  },
  {
   "cell_type": "code",
   "execution_count": 198,
   "metadata": {},
   "outputs": [
    {
     "name": "stdout",
     "output_type": "stream",
     "text": [
      "Node: 3\n",
      "verteices: ['futurology', 'science', 'theydidthemath', 'dota2', 'leagueoflegends', 'gamingcirclejerk', 'pcmasterrace', 'againstsocialjustice', 'mensrights', 'thebluepill', 'relationships', 'theredpill', 'buttcoin', 'bitcoinmarkets', 'technology', 'panichistory']\n",
      "theta: 0.7\n",
      "parent: 9\n",
      "children: {1}\n"
     ]
    }
   ],
   "source": [
    "tree['node_id'][3].info()"
   ]
  },
  {
   "cell_type": "code",
   "execution_count": 230,
   "metadata": {},
   "outputs": [
    {
     "name": "stdout",
     "output_type": "stream",
     "text": [
      "you a  0.9 1\n",
      "meile  0.9 1\n",
      "you a  0.9 2\n",
      "meile  0.9 2\n",
      "you a  0.7 3\n",
      "meile  0.7 3\n",
      "you a  0.5 4\n",
      "meile  0.5 4\n",
      "you a  0.3 5\n",
      "you a  0.2 6\n",
      "you a  0.1 7\n",
      "you a  0.0 8\n",
      "you a  0.0 9\n",
      "you a  0.0 10\n",
      "you a  0.0 11\n",
      "you a  0.0 12\n"
     ]
    }
   ],
   "source": [
    "tree4 = theta_tree(theta_thres_all[4], gg)"
   ]
  },
  {
   "cell_type": "code",
   "execution_count": 222,
   "metadata": {},
   "outputs": [
    {
     "data": {
      "text/plain": [
       "1     0.9\n",
       "2     0.9\n",
       "3     0.7\n",
       "4     0.5\n",
       "5     0.3\n",
       "6     0.2\n",
       "7     0.1\n",
       "8     0.0\n",
       "9     0.0\n",
       "10    0.0\n",
       "11    0.0\n",
       "12    0.0\n",
       "Name: nba, dtype: float64"
      ]
     },
     "execution_count": 222,
     "metadata": {},
     "output_type": "execute_result"
    }
   ],
   "source": [
    "theta_thres_all[4].loc['nba']"
   ]
  },
  {
   "cell_type": "code",
   "execution_count": 232,
   "metadata": {},
   "outputs": [
    {
     "data": {
      "text/plain": [
       "True"
      ]
     },
     "execution_count": 232,
     "metadata": {},
     "output_type": "execute_result"
    }
   ],
   "source": [
    "bb = remove_theta(gg,0.7)\n",
    "'nba' in bb.nodes"
   ]
  },
  {
   "cell_type": "code",
   "execution_count": 254,
   "metadata": {},
   "outputs": [
    {
     "data": {
      "text/plain": [
       "36"
      ]
     },
     "execution_count": 254,
     "metadata": {},
     "output_type": "execute_result"
    }
   ],
   "source": [
    "g = theta_thres_all[4].groupby(3)\n",
    "node_v = g.get_group(0.7).index.values.tolist()\n",
    "len(node_v)"
   ]
  },
  {
   "cell_type": "code",
   "execution_count": 256,
   "metadata": {},
   "outputs": [
    {
     "data": {
      "text/plain": [
       "(36, 16)"
      ]
     },
     "execution_count": 256,
     "metadata": {},
     "output_type": "execute_result"
    }
   ],
   "source": [
    "sub_G = nx.subgraph(list_G[4],node_v)\n",
    "temp_G = remove_theta(sub_G,0.7)\n",
    "len(sub_G.nodes), len(temp_G.nodes)"
   ]
  },
  {
   "cell_type": "code",
   "execution_count": 260,
   "metadata": {},
   "outputs": [
    {
     "data": {
      "text/plain": [
       "36"
      ]
     },
     "execution_count": 260,
     "metadata": {},
     "output_type": "execute_result"
    }
   ],
   "source": [
    "G_temp = sub_G.copy()\n",
    "for (u,v) in G_temp.edges:\n",
    "    if G_temp[u][v]['weight']<theta:\n",
    "        G_temp.remove_edge(u,v)\n",
    "len(G_temp.nodes)"
   ]
  },
  {
   "cell_type": "code",
   "execution_count": 1,
   "metadata": {},
   "outputs": [
    {
     "ename": "NameError",
     "evalue": "name 'G_temp' is not defined",
     "output_type": "error",
     "traceback": [
      "\u001b[1;31m---------------------------------------------------------------------------\u001b[0m",
      "\u001b[1;31mNameError\u001b[0m                                 Traceback (most recent call last)",
      "\u001b[1;32m~\\AppData\\Local\\Temp/ipykernel_21132/3030105695.py\u001b[0m in \u001b[0;36m<module>\u001b[1;34m\u001b[0m\n\u001b[1;32m----> 1\u001b[1;33m \u001b[0mG_temp\u001b[0m\u001b[1;33m.\u001b[0m\u001b[0mnodes\u001b[0m\u001b[1;33m\u001b[0m\u001b[1;33m\u001b[0m\u001b[0m\n\u001b[0m",
      "\u001b[1;31mNameError\u001b[0m: name 'G_temp' is not defined"
     ]
    }
   ],
   "source": [
    "G_temp.nodes"
   ]
  },
  {
   "cell_type": "code",
   "execution_count": 10,
   "metadata": {},
   "outputs": [],
   "source": [
    "nodes = ['12', '34', '45']\n",
    "interval = (3,6)\n",
    "score = 0.4353456\n",
    "\n",
    "file_name = 'test.output-1-2-3_WCF'\n",
    "    \n",
    "f = open('./Output/'+file_name, 'w')\n",
    "f.writelines('Score: ' + str(score) +'\\n')\n",
    "f.write('Interval: ' + str(interval) +'\\n')\n",
    "f.write('Nodes: ' + str(nodes))\n",
    "f.close()"
   ]
  }
 ],
 "metadata": {
  "kernelspec": {
   "display_name": "Python 3.9.7 ('base')",
   "language": "python",
   "name": "python3"
  },
  "language_info": {
   "codemirror_mode": {
    "name": "ipython",
    "version": 3
   },
   "file_extension": ".py",
   "mimetype": "text/x-python",
   "name": "python",
   "nbconvert_exporter": "python",
   "pygments_lexer": "ipython3",
   "version": "3.9.7"
  },
  "orig_nbformat": 4,
  "vscode": {
   "interpreter": {
    "hash": "a0c3bd7c9556569dc1ef9443ec91d3b9c536ca2b41c586f54944571d5f995c32"
   }
  }
 },
 "nbformat": 4,
 "nbformat_minor": 2
}
